{
 "cells": [
  {
   "cell_type": "code",
   "execution_count": 1,
   "metadata": {},
   "outputs": [
    {
     "name": "stdout",
     "output_type": "stream",
     "text": [
      "/home/d/PycharmProjects/protein_properties\n"
     ]
    }
   ],
   "source": [
    "%cd .. "
   ]
  },
  {
   "cell_type": "code",
   "execution_count": 2,
   "metadata": {},
   "outputs": [],
   "source": [
    "# For automatic file reloading as usual\n",
    "%load_ext autoreload\n",
    "%autoreload 2\n",
    "%matplotlib inline"
   ]
  },
  {
   "cell_type": "code",
   "execution_count": 6,
   "metadata": {},
   "outputs": [],
   "source": [
    "from data.lightning import SASADataConfig, SASADataModule, SASADataset\n",
    "from models import SASABaseline\n",
    "import os \n",
    "import pytorch_lightning as pl\n",
    "from pytorch_lightning.loggers import TensorBoardLogger\n",
    "import torch\n",
    "from torch.utils.data import DataLoader\n",
    "from tqdm import tqdm"
   ]
  },
  {
   "cell_type": "code",
   "execution_count": 7,
   "metadata": {},
   "outputs": [
    {
     "name": "stdout",
     "output_type": "stream",
     "text": [
      "Data preparation already done!\n"
     ]
    }
   ],
   "source": [
    "config = SASADataConfig(data_dir=\"data/sasa\", embedding_path=\"data/sasa/sasaembeddings.h5\", num_workers=4, num_classes=2, np_path=\"data/sasa/\")\n",
    "data_module = SASADataModule(config=config)\n",
    "data_module.setup(\"train\")"
   ]
  },
  {
   "attachments": {},
   "cell_type": "markdown",
   "metadata": {},
   "source": [
    "### Overfit on one sample -> check that the model is working and the data makes sense"
   ]
  },
  {
   "cell_type": "code",
   "execution_count": 4,
   "metadata": {},
   "outputs": [],
   "source": [
    "logger = TensorBoardLogger('lightning_logs', name='sasa_overfit_one_sample')\n",
    "one_sample_train_set = DataLoader(data_module.train_dataset[42], batch_size=1, shuffle=False, num_workers=4)\n",
    "one_samples_trainer = pl.Trainer(accelerator=\"gpu\", devices=1, deterministic=True, max_epochs=5, enable_checkpointing=False, limit_train_batches=1, profiler=\"advanced\", logger=logger)\n",
    "model = SASABaseline(config.num_classes)"
   ]
  },
  {
   "cell_type": "code",
   "execution_count": null,
   "metadata": {},
   "outputs": [],
   "source": [
    "%load_ext tensorboard\n",
    "%tensorboard --logdir lightning_logs/"
   ]
  },
  {
   "cell_type": "code",
   "execution_count": null,
   "metadata": {},
   "outputs": [],
   "source": [
    "one_samples_trainer.fit(model, one_sample_train_set, data_module.validation_dataloader())"
   ]
  },
  {
   "attachments": {},
   "cell_type": "markdown",
   "metadata": {},
   "source": [
    "### Now try some more samples"
   ]
  },
  {
   "cell_type": "code",
   "execution_count": null,
   "metadata": {},
   "outputs": [],
   "source": [
    "logger = TensorBoardLogger('lightning_logs', name='sasa_overfit')\n",
    "one_sample_train_set = DataLoader(data_module.train_dataset[torch.randperm(len(data_module.train_dataset))[:10]], batch_size=1, shuffle=True, num_workers=4)\n",
    "one_samples_trainer = pl.Trainer(accelerator=\"gpu\", devices=1, deterministic=True, max_epochs=10, enable_checkpointing=False, accumulate_grad_batches=10, profiler=\"advanced\", logger=logger)\n",
    "model = SASABaseline(config.num_classes)"
   ]
  }
 ],
 "metadata": {
  "kernelspec": {
   "display_name": "Python 3 (ipykernel)",
   "language": "python",
   "name": "python3"
  },
  "language_info": {
   "codemirror_mode": {
    "name": "ipython",
    "version": 3
   },
   "file_extension": ".py",
   "mimetype": "text/x-python",
   "name": "python",
   "nbconvert_exporter": "python",
   "pygments_lexer": "ipython3",
   "version": "3.10.4"
  },
  "orig_nbformat": 4
 },
 "nbformat": 4,
 "nbformat_minor": 2
}
