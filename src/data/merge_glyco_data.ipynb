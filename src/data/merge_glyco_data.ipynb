{
 "cells": [
  {
   "cell_type": "code",
   "execution_count": 1,
   "metadata": {},
   "outputs": [],
   "source": [
    "import pandas as pd\n",
    "from Bio import ExPASy\n",
    "from Bio import SwissProt\n",
    "import re\n",
    "import numpy as np\n",
    "from fasta import Fasta"
   ]
  },
  {
   "cell_type": "code",
   "execution_count": 2,
   "metadata": {},
   "outputs": [],
   "source": [
    "# position of glyco site is one based -> will be converted to zero based\n",
    "def fetch_protein_sequence_pdb(uniprot_id):\n",
    "    handle = ExPASy.get_sprot_raw(uniprot_id)\n",
    "    record = SwissProt.read(handle)\n",
    "    return record.sequence"
   ]
  },
  {
   "attachments": {},
   "cell_type": "markdown",
   "metadata": {},
   "source": [
    "- load data\n",
    "- merge train \n",
    "- remove test from train \n",
    "- get sequences \n",
    "    - for O-linked dataset: site positions are part of the fasta header -> one header per protein is enough \n",
    "    - for the rest: group the entries by PID and accumulate glyco site positions \n",
    "- map sites to sequences\n",
    "- write to fasta file \n",
    "    - one fasta for training and one for RR, containing the PID and sequences "
   ]
  },
  {
   "attachments": {},
   "cell_type": "markdown",
   "metadata": {},
   "source": []
  },
  {
   "attachments": {},
   "cell_type": "markdown",
   "metadata": {},
   "source": [
    "### Load Data"
   ]
  },
  {
   "cell_type": "code",
   "execution_count": 3,
   "metadata": {},
   "outputs": [
    {
     "data": {
      "text/plain": [
       "'/home/d/PycharmProjects/protein_properties/src/data'"
      ]
     },
     "execution_count": 3,
     "metadata": {},
     "output_type": "execute_result"
    }
   ],
   "source": [
    "import os\n",
    "import os\n",
    "os.getcwd()"
   ]
  },
  {
   "attachments": {},
   "cell_type": "markdown",
   "metadata": {},
   "source": [
    "The negative samples of Captor are not usable, since they do not provide the exact position of the window -> would mean I have to align and map the labels to the sequence = pain"
   ]
  },
  {
   "cell_type": "code",
   "execution_count": 4,
   "metadata": {},
   "outputs": [],
   "source": [
    "O_captor_train = []\n",
    "with open(\"../../data/O_captor/Ptrain.fasta\", \"r\") as f:\n",
    "    for line in f.readlines():\n",
    "        if line.startswith(\">\"):\n",
    "            O_captor_train.append(line.strip(\"\\t\").strip(\"\\s\").strip(\"\\s\")[4:])\n",
    "rgx = re.compile('[%s]' % \"\\s\\t|\")\n",
    "O_captor_train_dict = {}\n",
    "for i in range(len(O_captor_train)):\n",
    "    O_captor_train[i] = rgx.sub(\"\", O_captor_train[i]).split(\"#\")\n",
    "    O_captor_train_dict[O_captor_train[i][0]] = set([int(j) - 1 for j in O_captor_train[i][1:]])\n",
    "O_captor_train_series = pd.Series(O_captor_train_dict.values(), O_captor_train_dict.keys())\n",
    "\n",
    "O_captor_test = []\n",
    "with open(\"../../data/O_captor/Ptest.fasta\", \"r\") as f:\n",
    "    for line in f.readlines():\n",
    "        if line.startswith(\">\"):\n",
    "            O_captor_test.append(line.strip(\"\\t\").strip(\"\\s\").strip(\"\\s\")[4:])\n",
    "O_captor_test_dict = {}\n",
    "for i in range(len(O_captor_test)):\n",
    "    O_captor_test[i] = rgx.sub(\"\", O_captor_test[i]).split(\"#\")\n",
    "    O_captor_test_dict[O_captor_test[i][0]] = set([int(j) - 1 for j in O_captor_test[i][1:]])\n",
    "O_captor_test_df = pd.Series(O_captor_test_dict.values(), O_captor_test_dict.keys())\n",
    "# remove overlapping proteins from train and test set -> remove from test set\n",
    "O_captor_test_df = O_captor_test_df.drop(O_captor_train_series.index, errors=\"ignore\")\n",
    "\n",
    "N_LMNgly_train_df = pd.read_csv('../../data/LMNglyPred/Train_Data_NGlycositeAtlas.csv', usecols=[\"label\",\"PID\",\"Position\"])\n",
    "N_LMNgly_test_df = pd.read_csv('../../data/LMNglyPred/Test_Data_NGlycositeAtlas.csv', usecols=[\"label\",\"PID\",\"Position\"])\n",
    "# skip weird proteins at the top of the file\n",
    "N_taherzadeh_train_df = pd.read_csv('../../data/N_taherzadeh/Datasets.csv', usecols=[\"Protein name\",\"Position\"], skiprows=range(1, 12))\n",
    "N_taherzadeh_train_df[\"Protein name\"] = N_taherzadeh_train_df[\"Protein name\"].apply(lambda x: x.strip(\"'\"))"
   ]
  },
  {
   "cell_type": "code",
   "execution_count": 5,
   "metadata": {},
   "outputs": [],
   "source": [
    "O_captor_train_df = O_captor_train_series.to_frame()\n",
    "O_captor_train_df.columns = [\"Position\"]\n",
    "O_captor_train_df[\"PID\"] = O_captor_train_df.index\n",
    "O_captor_train_df[\"label\"] = 2\n",
    "O_captor_train_df.reset_index(drop=True, inplace=True)\n",
    "O_captor_train_df = O_captor_train_df.explode(\"Position\", ignore_index=True)"
   ]
  },
  {
   "cell_type": "code",
   "execution_count": 6,
   "metadata": {},
   "outputs": [
    {
     "data": {
      "text/plain": [
       "6706"
      ]
     },
     "execution_count": 6,
     "metadata": {},
     "output_type": "execute_result"
    }
   ],
   "source": [
    "len(O_captor_train_df[\"PID\"])"
   ]
  },
  {
   "cell_type": "code",
   "execution_count": 7,
   "metadata": {},
   "outputs": [
    {
     "data": {
      "text/plain": [
       "119"
      ]
     },
     "execution_count": 7,
     "metadata": {},
     "output_type": "execute_result"
    }
   ],
   "source": [
    "O_captor_test_df.apply(lambda x: len(x)).sum()"
   ]
  },
  {
   "cell_type": "code",
   "execution_count": 10,
   "metadata": {},
   "outputs": [],
   "source": [
    "N_taherzadeh_train_df[\"label\"] = 1\n",
    "N_taherzadeh_train_df.columns = [\"PID\", \"Position\", \"label\"]"
   ]
  },
  {
   "attachments": {},
   "cell_type": "markdown",
   "metadata": {},
   "source": [
    "### Clean Data"
   ]
  },
  {
   "cell_type": "code",
   "execution_count": 11,
   "metadata": {},
   "outputs": [
    {
     "name": "stdout",
     "output_type": "stream",
     "text": [
      "            PID Position  label\n",
      "36847  Q92954.3     1038      2\n",
      "36848  Q92954.3      528      2\n",
      "36849  Q92954.3      531      2\n",
      "36850  Q92954.3      539      2\n",
      "36851  Q92954.3      540      2\n",
      "...         ...      ...    ...\n",
      "43548  Q03001.4     7238      2\n",
      "43549  P31639.1        4      2\n",
      "43550  Q9BT09.1      267      2\n",
      "43551  Q9BT09.1      270      2\n",
      "43552  Q9NT22.2      521      2\n",
      "\n",
      "[6706 rows x 3 columns]\n"
     ]
    },
    {
     "data": {
      "text/html": [
       "<div>\n",
       "<style scoped>\n",
       "    .dataframe tbody tr th:only-of-type {\n",
       "        vertical-align: middle;\n",
       "    }\n",
       "\n",
       "    .dataframe tbody tr th {\n",
       "        vertical-align: top;\n",
       "    }\n",
       "\n",
       "    .dataframe thead th {\n",
       "        text-align: right;\n",
       "    }\n",
       "</style>\n",
       "<table border=\"1\" class=\"dataframe\">\n",
       "  <thead>\n",
       "    <tr style=\"text-align: right;\">\n",
       "      <th></th>\n",
       "      <th>PID</th>\n",
       "      <th>Position</th>\n",
       "      <th>label</th>\n",
       "    </tr>\n",
       "  </thead>\n",
       "  <tbody>\n",
       "    <tr>\n",
       "      <th>0</th>\n",
       "      <td>Q13425</td>\n",
       "      <td>167</td>\n",
       "      <td>1</td>\n",
       "    </tr>\n",
       "    <tr>\n",
       "      <th>1</th>\n",
       "      <td>Q9NZR2</td>\n",
       "      <td>1921</td>\n",
       "      <td>1</td>\n",
       "    </tr>\n",
       "    <tr>\n",
       "      <th>2</th>\n",
       "      <td>O43663</td>\n",
       "      <td>489</td>\n",
       "      <td>1</td>\n",
       "    </tr>\n",
       "    <tr>\n",
       "      <th>3</th>\n",
       "      <td>Q495M3</td>\n",
       "      <td>181</td>\n",
       "      <td>1</td>\n",
       "    </tr>\n",
       "    <tr>\n",
       "      <th>4</th>\n",
       "      <td>Q9BXP8</td>\n",
       "      <td>1408</td>\n",
       "      <td>1</td>\n",
       "    </tr>\n",
       "    <tr>\n",
       "      <th>...</th>\n",
       "      <td>...</td>\n",
       "      <td>...</td>\n",
       "      <td>...</td>\n",
       "    </tr>\n",
       "    <tr>\n",
       "      <th>43548</th>\n",
       "      <td>Q03001.4</td>\n",
       "      <td>7238</td>\n",
       "      <td>2</td>\n",
       "    </tr>\n",
       "    <tr>\n",
       "      <th>43549</th>\n",
       "      <td>P31639.1</td>\n",
       "      <td>4</td>\n",
       "      <td>2</td>\n",
       "    </tr>\n",
       "    <tr>\n",
       "      <th>43550</th>\n",
       "      <td>Q9BT09.1</td>\n",
       "      <td>267</td>\n",
       "      <td>2</td>\n",
       "    </tr>\n",
       "    <tr>\n",
       "      <th>43551</th>\n",
       "      <td>Q9BT09.1</td>\n",
       "      <td>270</td>\n",
       "      <td>2</td>\n",
       "    </tr>\n",
       "    <tr>\n",
       "      <th>43552</th>\n",
       "      <td>Q9NT22.2</td>\n",
       "      <td>521</td>\n",
       "      <td>2</td>\n",
       "    </tr>\n",
       "  </tbody>\n",
       "</table>\n",
       "<p>40951 rows × 3 columns</p>\n",
       "</div>"
      ],
      "text/plain": [
       "            PID Position  label\n",
       "0        Q13425      167      1\n",
       "1        Q9NZR2     1921      1\n",
       "2        O43663      489      1\n",
       "3        Q495M3      181      1\n",
       "4        Q9BXP8     1408      1\n",
       "...         ...      ...    ...\n",
       "43548  Q03001.4     7238      2\n",
       "43549  P31639.1        4      2\n",
       "43550  Q9BT09.1      267      2\n",
       "43551  Q9BT09.1      270      2\n",
       "43552  Q9NT22.2      521      2\n",
       "\n",
       "[40951 rows x 3 columns]"
      ]
     },
     "execution_count": 11,
     "metadata": {},
     "output_type": "execute_result"
    }
   ],
   "source": [
    "N_merged_train_df = pd.concat([N_LMNgly_train_df, N_taherzadeh_train_df, O_captor_train_df], ignore_index=True)\n",
    "print(N_merged_train_df[N_merged_train_df[\"label\"] == 2])\n",
    "N_merged_train_df.drop_duplicates(inplace=True, keep=\"first\")\n",
    "N_merged_train_df"
   ]
  },
  {
   "cell_type": "code",
   "execution_count": 12,
   "metadata": {},
   "outputs": [
    {
     "data": {
      "text/html": [
       "<div>\n",
       "<style scoped>\n",
       "    .dataframe tbody tr th:only-of-type {\n",
       "        vertical-align: middle;\n",
       "    }\n",
       "\n",
       "    .dataframe tbody tr th {\n",
       "        vertical-align: top;\n",
       "    }\n",
       "\n",
       "    .dataframe thead th {\n",
       "        text-align: right;\n",
       "    }\n",
       "</style>\n",
       "<table border=\"1\" class=\"dataframe\">\n",
       "  <thead>\n",
       "    <tr style=\"text-align: right;\">\n",
       "      <th></th>\n",
       "      <th>PID</th>\n",
       "      <th>Position</th>\n",
       "      <th>label</th>\n",
       "    </tr>\n",
       "  </thead>\n",
       "  <tbody>\n",
       "    <tr>\n",
       "      <th>36847</th>\n",
       "      <td>Q92954.3</td>\n",
       "      <td>1038</td>\n",
       "      <td>2</td>\n",
       "    </tr>\n",
       "    <tr>\n",
       "      <th>36848</th>\n",
       "      <td>Q92954.3</td>\n",
       "      <td>528</td>\n",
       "      <td>2</td>\n",
       "    </tr>\n",
       "    <tr>\n",
       "      <th>36849</th>\n",
       "      <td>Q92954.3</td>\n",
       "      <td>531</td>\n",
       "      <td>2</td>\n",
       "    </tr>\n",
       "    <tr>\n",
       "      <th>36850</th>\n",
       "      <td>Q92954.3</td>\n",
       "      <td>539</td>\n",
       "      <td>2</td>\n",
       "    </tr>\n",
       "    <tr>\n",
       "      <th>36851</th>\n",
       "      <td>Q92954.3</td>\n",
       "      <td>540</td>\n",
       "      <td>2</td>\n",
       "    </tr>\n",
       "    <tr>\n",
       "      <th>...</th>\n",
       "      <td>...</td>\n",
       "      <td>...</td>\n",
       "      <td>...</td>\n",
       "    </tr>\n",
       "    <tr>\n",
       "      <th>43548</th>\n",
       "      <td>Q03001.4</td>\n",
       "      <td>7238</td>\n",
       "      <td>2</td>\n",
       "    </tr>\n",
       "    <tr>\n",
       "      <th>43549</th>\n",
       "      <td>P31639.1</td>\n",
       "      <td>4</td>\n",
       "      <td>2</td>\n",
       "    </tr>\n",
       "    <tr>\n",
       "      <th>43550</th>\n",
       "      <td>Q9BT09.1</td>\n",
       "      <td>267</td>\n",
       "      <td>2</td>\n",
       "    </tr>\n",
       "    <tr>\n",
       "      <th>43551</th>\n",
       "      <td>Q9BT09.1</td>\n",
       "      <td>270</td>\n",
       "      <td>2</td>\n",
       "    </tr>\n",
       "    <tr>\n",
       "      <th>43552</th>\n",
       "      <td>Q9NT22.2</td>\n",
       "      <td>521</td>\n",
       "      <td>2</td>\n",
       "    </tr>\n",
       "  </tbody>\n",
       "</table>\n",
       "<p>6706 rows × 3 columns</p>\n",
       "</div>"
      ],
      "text/plain": [
       "            PID Position  label\n",
       "36847  Q92954.3     1038      2\n",
       "36848  Q92954.3      528      2\n",
       "36849  Q92954.3      531      2\n",
       "36850  Q92954.3      539      2\n",
       "36851  Q92954.3      540      2\n",
       "...         ...      ...    ...\n",
       "43548  Q03001.4     7238      2\n",
       "43549  P31639.1        4      2\n",
       "43550  Q9BT09.1      267      2\n",
       "43551  Q9BT09.1      270      2\n",
       "43552  Q9NT22.2      521      2\n",
       "\n",
       "[6706 rows x 3 columns]"
      ]
     },
     "execution_count": 12,
     "metadata": {},
     "output_type": "execute_result"
    }
   ],
   "source": [
    "N_merged_train_df[N_merged_train_df[\"label\"] == 2]"
   ]
  },
  {
   "cell_type": "code",
   "execution_count": 13,
   "metadata": {},
   "outputs": [
    {
     "data": {
      "text/html": [
       "<div>\n",
       "<style scoped>\n",
       "    .dataframe tbody tr th:only-of-type {\n",
       "        vertical-align: middle;\n",
       "    }\n",
       "\n",
       "    .dataframe tbody tr th {\n",
       "        vertical-align: top;\n",
       "    }\n",
       "\n",
       "    .dataframe thead th {\n",
       "        text-align: right;\n",
       "    }\n",
       "</style>\n",
       "<table border=\"1\" class=\"dataframe\">\n",
       "  <thead>\n",
       "    <tr style=\"text-align: right;\">\n",
       "      <th></th>\n",
       "      <th>PID</th>\n",
       "      <th>Position</th>\n",
       "      <th>label</th>\n",
       "    </tr>\n",
       "  </thead>\n",
       "  <tbody>\n",
       "    <tr>\n",
       "      <th>0</th>\n",
       "      <td>Q13425</td>\n",
       "      <td>167</td>\n",
       "      <td>1</td>\n",
       "    </tr>\n",
       "    <tr>\n",
       "      <th>1</th>\n",
       "      <td>Q9NZR2</td>\n",
       "      <td>1921</td>\n",
       "      <td>1</td>\n",
       "    </tr>\n",
       "    <tr>\n",
       "      <th>2</th>\n",
       "      <td>O43663</td>\n",
       "      <td>489</td>\n",
       "      <td>1</td>\n",
       "    </tr>\n",
       "    <tr>\n",
       "      <th>3</th>\n",
       "      <td>Q495M3</td>\n",
       "      <td>181</td>\n",
       "      <td>1</td>\n",
       "    </tr>\n",
       "    <tr>\n",
       "      <th>4</th>\n",
       "      <td>Q9BXP8</td>\n",
       "      <td>1408</td>\n",
       "      <td>1</td>\n",
       "    </tr>\n",
       "    <tr>\n",
       "      <th>...</th>\n",
       "      <td>...</td>\n",
       "      <td>...</td>\n",
       "      <td>...</td>\n",
       "    </tr>\n",
       "    <tr>\n",
       "      <th>43548</th>\n",
       "      <td>Q03001.4</td>\n",
       "      <td>7238</td>\n",
       "      <td>2</td>\n",
       "    </tr>\n",
       "    <tr>\n",
       "      <th>43549</th>\n",
       "      <td>P31639.1</td>\n",
       "      <td>4</td>\n",
       "      <td>2</td>\n",
       "    </tr>\n",
       "    <tr>\n",
       "      <th>43550</th>\n",
       "      <td>Q9BT09.1</td>\n",
       "      <td>267</td>\n",
       "      <td>2</td>\n",
       "    </tr>\n",
       "    <tr>\n",
       "      <th>43551</th>\n",
       "      <td>Q9BT09.1</td>\n",
       "      <td>270</td>\n",
       "      <td>2</td>\n",
       "    </tr>\n",
       "    <tr>\n",
       "      <th>43552</th>\n",
       "      <td>Q9NT22.2</td>\n",
       "      <td>521</td>\n",
       "      <td>2</td>\n",
       "    </tr>\n",
       "  </tbody>\n",
       "</table>\n",
       "<p>40273 rows × 3 columns</p>\n",
       "</div>"
      ],
      "text/plain": [
       "            PID Position  label\n",
       "0        Q13425      167      1\n",
       "1        Q9NZR2     1921      1\n",
       "2        O43663      489      1\n",
       "3        Q495M3      181      1\n",
       "4        Q9BXP8     1408      1\n",
       "...         ...      ...    ...\n",
       "43548  Q03001.4     7238      2\n",
       "43549  P31639.1        4      2\n",
       "43550  Q9BT09.1      267      2\n",
       "43551  Q9BT09.1      270      2\n",
       "43552  Q9NT22.2      521      2\n",
       "\n",
       "[40273 rows x 3 columns]"
      ]
     },
     "execution_count": 13,
     "metadata": {},
     "output_type": "execute_result"
    }
   ],
   "source": [
    "# drop the proteins that are in the either of the two test set\n",
    "N_merged_train_df = N_merged_train_df[~N_merged_train_df[\"PID\"].isin(N_LMNgly_test_df[\"PID\"])]\n",
    "N_merged_train_df = N_merged_train_df[~N_merged_train_df[\"PID\"].isin(O_captor_test_df.index)]\n",
    "N_merged_train_df[\"PID\"] = N_merged_train_df[\"PID\"].astype(str)\n",
    "N_merged_train_df"
   ]
  },
  {
   "cell_type": "code",
   "execution_count": 14,
   "metadata": {},
   "outputs": [
    {
     "data": {
      "text/html": [
       "<div>\n",
       "<style scoped>\n",
       "    .dataframe tbody tr th:only-of-type {\n",
       "        vertical-align: middle;\n",
       "    }\n",
       "\n",
       "    .dataframe tbody tr th {\n",
       "        vertical-align: top;\n",
       "    }\n",
       "\n",
       "    .dataframe thead th {\n",
       "        text-align: right;\n",
       "    }\n",
       "</style>\n",
       "<table border=\"1\" class=\"dataframe\">\n",
       "  <thead>\n",
       "    <tr style=\"text-align: right;\">\n",
       "      <th></th>\n",
       "      <th>PID</th>\n",
       "      <th>Position</th>\n",
       "      <th>label</th>\n",
       "    </tr>\n",
       "  </thead>\n",
       "  <tbody>\n",
       "    <tr>\n",
       "      <th>36847</th>\n",
       "      <td>Q92954.3</td>\n",
       "      <td>1038</td>\n",
       "      <td>2</td>\n",
       "    </tr>\n",
       "    <tr>\n",
       "      <th>36848</th>\n",
       "      <td>Q92954.3</td>\n",
       "      <td>528</td>\n",
       "      <td>2</td>\n",
       "    </tr>\n",
       "    <tr>\n",
       "      <th>36849</th>\n",
       "      <td>Q92954.3</td>\n",
       "      <td>531</td>\n",
       "      <td>2</td>\n",
       "    </tr>\n",
       "    <tr>\n",
       "      <th>36850</th>\n",
       "      <td>Q92954.3</td>\n",
       "      <td>539</td>\n",
       "      <td>2</td>\n",
       "    </tr>\n",
       "    <tr>\n",
       "      <th>36851</th>\n",
       "      <td>Q92954.3</td>\n",
       "      <td>540</td>\n",
       "      <td>2</td>\n",
       "    </tr>\n",
       "    <tr>\n",
       "      <th>...</th>\n",
       "      <td>...</td>\n",
       "      <td>...</td>\n",
       "      <td>...</td>\n",
       "    </tr>\n",
       "    <tr>\n",
       "      <th>43548</th>\n",
       "      <td>Q03001.4</td>\n",
       "      <td>7238</td>\n",
       "      <td>2</td>\n",
       "    </tr>\n",
       "    <tr>\n",
       "      <th>43549</th>\n",
       "      <td>P31639.1</td>\n",
       "      <td>4</td>\n",
       "      <td>2</td>\n",
       "    </tr>\n",
       "    <tr>\n",
       "      <th>43550</th>\n",
       "      <td>Q9BT09.1</td>\n",
       "      <td>267</td>\n",
       "      <td>2</td>\n",
       "    </tr>\n",
       "    <tr>\n",
       "      <th>43551</th>\n",
       "      <td>Q9BT09.1</td>\n",
       "      <td>270</td>\n",
       "      <td>2</td>\n",
       "    </tr>\n",
       "    <tr>\n",
       "      <th>43552</th>\n",
       "      <td>Q9NT22.2</td>\n",
       "      <td>521</td>\n",
       "      <td>2</td>\n",
       "    </tr>\n",
       "  </tbody>\n",
       "</table>\n",
       "<p>6695 rows × 3 columns</p>\n",
       "</div>"
      ],
      "text/plain": [
       "            PID Position  label\n",
       "36847  Q92954.3     1038      2\n",
       "36848  Q92954.3      528      2\n",
       "36849  Q92954.3      531      2\n",
       "36850  Q92954.3      539      2\n",
       "36851  Q92954.3      540      2\n",
       "...         ...      ...    ...\n",
       "43548  Q03001.4     7238      2\n",
       "43549  P31639.1        4      2\n",
       "43550  Q9BT09.1      267      2\n",
       "43551  Q9BT09.1      270      2\n",
       "43552  Q9NT22.2      521      2\n",
       "\n",
       "[6695 rows x 3 columns]"
      ]
     },
     "execution_count": 14,
     "metadata": {},
     "output_type": "execute_result"
    }
   ],
   "source": [
    "N_merged_train_df[N_merged_train_df[\"label\"] == 2]"
   ]
  },
  {
   "cell_type": "code",
   "execution_count": 15,
   "metadata": {},
   "outputs": [],
   "source": [
    "from Bio import Entrez\n",
    "from Bio.Seq import Seq\n",
    "import concurrent.futures\n",
    "\n",
    "import requests\n",
    "\n",
    "def get_protein_sequences(protein_ids):\n",
    "    sequences = {}\n",
    "    protein_ids = set(protein_ids)\n",
    "    # Separate UniProt and NCBI IDs\n",
    "    uniprot_ids = [id for id in protein_ids if not id.startswith('NP_')]\n",
    "    ncbi_ids = [id for id in protein_ids if id.startswith('NP_')]\n",
    "    \n",
    "    # Fetch sequences for UniProt IDs\n",
    "    if uniprot_ids:\n",
    "        uniprot_sequences = fetch_uniprot_sequences(uniprot_ids)  # Fetch UniProt sequences\n",
    "        sequences.update(uniprot_sequences)\n",
    "    \n",
    "    # Fetch sequences for NCBI IDs\n",
    "    if ncbi_ids:\n",
    "        ncbi_sequences = fetch_ncbi_sequences(ncbi_ids)  # Fetch NCBI sequences\n",
    "        sequences.update(ncbi_sequences)\n",
    "    \n",
    "    return sequences\n",
    "\n",
    "def fetch_uniprot_sequences(uniprot_ids):\n",
    "    sequences = {}\n",
    "    \n",
    "    for uniprot_id in uniprot_ids:\n",
    "        \n",
    "        # Make a request to UniProt for the FASTA sequence\n",
    "        url = f'https://www.uniprot.org/uniprot/{uniprot_id}.fasta'\n",
    "        response = requests.get(url)\n",
    "        \n",
    "        if response.ok:\n",
    "            sequences[uniprot_id] = [''.join(response.text.split('\\n')[1:])]\n",
    "    \n",
    "    return sequences\n",
    "\n",
    "def fetch_ncbi_sequences(ncbi_ids):\n",
    "    Entrez.email = 'd.hasler@tum.de'  # Set your email address here\n",
    "    sequences = {}\n",
    "    \n",
    "    def fetch_sequence(ncbi_id):\n",
    "        handle = Entrez.efetch(db='protein', id=ncbi_id, rettype='fasta', retmode='text')\n",
    "        record = handle.read()\n",
    "        handle.close()\n",
    "        sequences[ncbi_id] = [record.split('\\n', 1)[1].replace('\\n', '')]\n",
    "    \n",
    "    # Fetch sequences using concurrent futures\n",
    "    with concurrent.futures.ThreadPoolExecutor() as executor:\n",
    "        executor.map(fetch_sequence, ncbi_ids)\n",
    "    \n",
    "    return sequences"
   ]
  },
  {
   "cell_type": "code",
   "execution_count": null,
   "metadata": {},
   "outputs": [],
   "source": [
    "# this will take around 90 minutes\n",
    "\"\"\"all_PID = set((N_merged_train_df[\"PID\"].tolist() + \n",
    "               N_LMNgly_test_df[\"PID\"].tolist() + \n",
    "               O_captor_test_df.index.tolist()))\n",
    "sequences = get_protein_sequences(all_PID)\"\"\""
   ]
  },
  {
   "cell_type": "code",
   "execution_count": null,
   "metadata": {},
   "outputs": [],
   "source": [
    "\"\"\"Fasta(sequences=sequences).write_fasta(\"../../data/glyco/glyco_all.fasta\", overwrite=True)\"\"\""
   ]
  },
  {
   "cell_type": "code",
   "execution_count": 17,
   "metadata": {},
   "outputs": [],
   "source": [
    "sequences = Fasta(\"../../data/glyco/glyco_all.fasta\")"
   ]
  },
  {
   "cell_type": "code",
   "execution_count": 18,
   "metadata": {},
   "outputs": [
    {
     "data": {
      "text/html": [
       "<div>\n",
       "<style scoped>\n",
       "    .dataframe tbody tr th:only-of-type {\n",
       "        vertical-align: middle;\n",
       "    }\n",
       "\n",
       "    .dataframe tbody tr th {\n",
       "        vertical-align: top;\n",
       "    }\n",
       "\n",
       "    .dataframe thead th {\n",
       "        text-align: right;\n",
       "    }\n",
       "</style>\n",
       "<table border=\"1\" class=\"dataframe\">\n",
       "  <thead>\n",
       "    <tr style=\"text-align: right;\">\n",
       "      <th></th>\n",
       "      <th>PID</th>\n",
       "      <th>Position</th>\n",
       "      <th>label</th>\n",
       "    </tr>\n",
       "  </thead>\n",
       "  <tbody>\n",
       "    <tr>\n",
       "      <th>36847</th>\n",
       "      <td>Q92954.3</td>\n",
       "      <td>1038</td>\n",
       "      <td>2</td>\n",
       "    </tr>\n",
       "    <tr>\n",
       "      <th>36848</th>\n",
       "      <td>Q92954.3</td>\n",
       "      <td>528</td>\n",
       "      <td>2</td>\n",
       "    </tr>\n",
       "    <tr>\n",
       "      <th>36849</th>\n",
       "      <td>Q92954.3</td>\n",
       "      <td>531</td>\n",
       "      <td>2</td>\n",
       "    </tr>\n",
       "    <tr>\n",
       "      <th>36850</th>\n",
       "      <td>Q92954.3</td>\n",
       "      <td>539</td>\n",
       "      <td>2</td>\n",
       "    </tr>\n",
       "    <tr>\n",
       "      <th>36851</th>\n",
       "      <td>Q92954.3</td>\n",
       "      <td>540</td>\n",
       "      <td>2</td>\n",
       "    </tr>\n",
       "    <tr>\n",
       "      <th>...</th>\n",
       "      <td>...</td>\n",
       "      <td>...</td>\n",
       "      <td>...</td>\n",
       "    </tr>\n",
       "    <tr>\n",
       "      <th>43548</th>\n",
       "      <td>Q03001.4</td>\n",
       "      <td>7238</td>\n",
       "      <td>2</td>\n",
       "    </tr>\n",
       "    <tr>\n",
       "      <th>43549</th>\n",
       "      <td>P31639.1</td>\n",
       "      <td>4</td>\n",
       "      <td>2</td>\n",
       "    </tr>\n",
       "    <tr>\n",
       "      <th>43550</th>\n",
       "      <td>Q9BT09.1</td>\n",
       "      <td>267</td>\n",
       "      <td>2</td>\n",
       "    </tr>\n",
       "    <tr>\n",
       "      <th>43551</th>\n",
       "      <td>Q9BT09.1</td>\n",
       "      <td>270</td>\n",
       "      <td>2</td>\n",
       "    </tr>\n",
       "    <tr>\n",
       "      <th>43552</th>\n",
       "      <td>Q9NT22.2</td>\n",
       "      <td>521</td>\n",
       "      <td>2</td>\n",
       "    </tr>\n",
       "  </tbody>\n",
       "</table>\n",
       "<p>6695 rows × 3 columns</p>\n",
       "</div>"
      ],
      "text/plain": [
       "            PID Position  label\n",
       "36847  Q92954.3     1038      2\n",
       "36848  Q92954.3      528      2\n",
       "36849  Q92954.3      531      2\n",
       "36850  Q92954.3      539      2\n",
       "36851  Q92954.3      540      2\n",
       "...         ...      ...    ...\n",
       "43548  Q03001.4     7238      2\n",
       "43549  P31639.1        4      2\n",
       "43550  Q9BT09.1      267      2\n",
       "43551  Q9BT09.1      270      2\n",
       "43552  Q9NT22.2      521      2\n",
       "\n",
       "[6695 rows x 3 columns]"
      ]
     },
     "execution_count": 18,
     "metadata": {},
     "output_type": "execute_result"
    }
   ],
   "source": [
    "N_merged_train_df[N_merged_train_df[\"label\"] == 2]"
   ]
  },
  {
   "cell_type": "code",
   "execution_count": 21,
   "metadata": {},
   "outputs": [
    {
     "name": "stdout",
     "output_type": "stream",
     "text": [
      "10613\n",
      "0.9225486787204451\n"
     ]
    }
   ],
   "source": [
    "merged_train_dict = {}\n",
    "label_dict = {0: \"T\", 1: \"N\", 2: \"O\", 5: \"X\"}\n",
    "count_dict = {0: 0, 1: 0, 2: 0, 5: 0}\n",
    "not_found = []\n",
    "for i in set(N_merged_train_df[\"PID\"]):\n",
    "    try:\n",
    "        seq = sequences[i][0]\n",
    "    except KeyError:\n",
    "        not_found.append(i)\n",
    "        continue\n",
    "    position = N_merged_train_df[N_merged_train_df[\"PID\"] == i][\"Position\"].tolist()\n",
    "    true_labels = N_merged_train_df[N_merged_train_df[\"PID\"] == i][\"label\"].tolist()\n",
    "    labels = np.zeros(len(seq)) + 5\n",
    "    for idx, pos in enumerate(position):\n",
    "        try:\n",
    "            labels[pos] = true_labels[idx]\n",
    "        except IndexError:\n",
    "            continue\n",
    "    for l in labels:\n",
    "        count_dict[l] += 1\n",
    "    merged_train_dict[i] = [seq, [\"\".join([label_dict[l] for l in labels.tolist()])]]\n",
    "\n",
    "print(len(merged_train_dict.keys()))\n",
    "print(len(merged_train_dict.keys()) / len(N_merged_train_df[\"PID\"].unique()))"
   ]
  },
  {
   "cell_type": "code",
   "execution_count": 27,
   "metadata": {},
   "outputs": [
    {
     "data": {
      "text/plain": [
       "{'P33827-1', 'Q13275.2'}"
      ]
     },
     "execution_count": 27,
     "metadata": {},
     "output_type": "execute_result"
    }
   ],
   "source": [
    "set(not_found).intersection(set(O_captor_train_df[\"PID\"]))"
   ]
  },
  {
   "cell_type": "code",
   "execution_count": 28,
   "metadata": {},
   "outputs": [],
   "source": [
    "shit_ids = []\n",
    "for item in merged_train_dict.items():\n",
    "    if len(set(list(item[1][1][0]))) == 1:\n",
    "        shit_ids.append(item[0])\n",
    "for id in shit_ids:\n",
    "    merged_train_dict.pop(id)"
   ]
  },
  {
   "cell_type": "code",
   "execution_count": 29,
   "metadata": {},
   "outputs": [
    {
     "name": "stdout",
     "output_type": "stream",
     "text": [
      "10578\n",
      "0.9195062586926287\n"
     ]
    }
   ],
   "source": [
    "print(len(merged_train_dict.keys()))\n",
    "print(len(merged_train_dict.keys()) / len(N_merged_train_df[\"PID\"].unique()))"
   ]
  },
  {
   "cell_type": "code",
   "execution_count": 30,
   "metadata": {},
   "outputs": [],
   "source": [
    "Fasta(sequences=merged_train_dict).write_fasta(\"../../data/glyco/train_seq_labels.o\", overwrite=True)"
   ]
  },
  {
   "cell_type": "code",
   "execution_count": 31,
   "metadata": {},
   "outputs": [],
   "source": [
    "O_captor_test_df = O_captor_test_df.to_frame()\n",
    "O_captor_test_df.columns = [\"Position\"]\n",
    "O_captor_test_df[\"PID\"] = O_captor_test_df.index\n",
    "O_captor_test_df[\"label\"] = 2\n",
    "O_captor_test_df.reset_index(drop=True, inplace=True)\n",
    "O_captor_test_df = O_captor_test_df.explode(\"Position\", ignore_index=True)"
   ]
  },
  {
   "cell_type": "code",
   "execution_count": 32,
   "metadata": {},
   "outputs": [],
   "source": [
    "\n",
    "merged_O_test_dict = {}\n",
    "label_dict = {0: \"T\", 1: \"N\", 2: \"O\", 5: \"X\"}\n",
    "for i in set(O_captor_test_df[\"PID\"]):\n",
    "    try:\n",
    "        seq = sequences[i][0]\n",
    "    except KeyError:\n",
    "        continue\n",
    "    position = O_captor_test_df[O_captor_test_df[\"PID\"] == i][\"Position\"].tolist()\n",
    "    true_labels = O_captor_test_df[O_captor_test_df[\"PID\"] == i][\"label\"].tolist()\n",
    "    labels = np.zeros(len(seq)) + 5\n",
    "    for idx, pos in enumerate(position):\n",
    "        try:\n",
    "            labels[pos] = true_labels[idx]\n",
    "        except IndexError:\n",
    "            continue\n",
    "    merged_O_test_dict[i] = [seq, [\"\".join([label_dict[l] for l in labels.tolist()])]]\n"
   ]
  },
  {
   "cell_type": "code",
   "execution_count": 33,
   "metadata": {},
   "outputs": [
    {
     "name": "stdout",
     "output_type": "stream",
     "text": [
      "90\n",
      "0.967741935483871\n"
     ]
    }
   ],
   "source": [
    "shit_ids = []\n",
    "for item in merged_O_test_dict.items():\n",
    "    if len(set(list(item[1][1][0]))) == 1:\n",
    "        shit_ids.append(item[0])\n",
    "for id in shit_ids:\n",
    "    merged_O_test_dict.pop(id)\n",
    "print(len(merged_O_test_dict.keys()))\n",
    "print(len(merged_O_test_dict.keys()) / len(O_captor_test_df[\"PID\"].unique()))"
   ]
  },
  {
   "cell_type": "code",
   "execution_count": 34,
   "metadata": {},
   "outputs": [
    {
     "data": {
      "text/plain": [
       "93"
      ]
     },
     "execution_count": 34,
     "metadata": {},
     "output_type": "execute_result"
    }
   ],
   "source": [
    "len(set(O_captor_test_df[\"PID\"]))"
   ]
  },
  {
   "cell_type": "code",
   "execution_count": 35,
   "metadata": {},
   "outputs": [],
   "source": [
    "Fasta(sequences=merged_O_test_dict).write_fasta(\"../../data/glyco/O_test_seq_labels.o\", overwrite=True)"
   ]
  },
  {
   "cell_type": "code",
   "execution_count": 36,
   "metadata": {},
   "outputs": [],
   "source": [
    "\n",
    "merged_N_test_dict = {}\n",
    "label_dict = {0: \"T\", 1: \"N\", 2: \"O\", 5: \"X\"}\n",
    "for i in set(N_LMNgly_test_df[\"PID\"]):\n",
    "    try:\n",
    "        seq = sequences[i][0]\n",
    "    except KeyError:\n",
    "        print(f\"Skipping {i}\")\n",
    "        continue\n",
    "    position = N_LMNgly_test_df[N_LMNgly_test_df[\"PID\"] == i][\"Position\"].tolist()\n",
    "    true_labels = N_LMNgly_test_df[N_LMNgly_test_df[\"PID\"] == i][\"label\"].tolist()\n",
    "    labels = np.zeros(len(seq)) + 5\n",
    "    for idx, pos in enumerate(position):\n",
    "        try:\n",
    "            labels[pos] = true_labels[idx]\n",
    "        except IndexError:\n",
    "            print(f\"Skipping {i} because of IndexError\")\n",
    "            continue\n",
    "    merged_N_test_dict[i] = [seq, [\"\".join([label_dict[l] for l in labels.tolist()])]]\n",
    "shit_ids = []\n",
    "for item in merged_N_test_dict.items():\n",
    "    if len(set(list(item[1][1][0]))) == 1:\n",
    "        shit_ids.append(item[0])\n",
    "for id in shit_ids:\n",
    "    merged_N_test_dict.pop(id)"
   ]
  },
  {
   "cell_type": "code",
   "execution_count": 37,
   "metadata": {},
   "outputs": [
    {
     "data": {
      "text/plain": [
       "955"
      ]
     },
     "execution_count": 37,
     "metadata": {},
     "output_type": "execute_result"
    }
   ],
   "source": [
    "len(set(N_LMNgly_test_df[\"PID\"]))"
   ]
  },
  {
   "cell_type": "code",
   "execution_count": 38,
   "metadata": {},
   "outputs": [
    {
     "data": {
      "text/plain": [
       "955"
      ]
     },
     "execution_count": 38,
     "metadata": {},
     "output_type": "execute_result"
    }
   ],
   "source": [
    "len(merged_N_test_dict)"
   ]
  },
  {
   "cell_type": "code",
   "execution_count": 39,
   "metadata": {},
   "outputs": [],
   "source": [
    "Fasta(sequences=merged_N_test_dict).write_fasta(\"../../data/glyco/N_test_seq_labels.o\", overwrite=True)"
   ]
  },
  {
   "cell_type": "code",
   "execution_count": 40,
   "metadata": {},
   "outputs": [],
   "source": [
    "ids = []\n",
    "with open(\"../../data/glyco/rr_wscores_and_config_glyco_all.fasta\", \"r\") as f:\n",
    "    for line in f.readlines():\n",
    "        if line.startswith(\">\"):\n",
    "            ids.append(line[1:].strip())"
   ]
  },
  {
   "cell_type": "code",
   "execution_count": 41,
   "metadata": {},
   "outputs": [
    {
     "data": {
      "text/plain": [
       "766"
      ]
     },
     "execution_count": 41,
     "metadata": {},
     "output_type": "execute_result"
    }
   ],
   "source": [
    "t = []\n",
    "for i in ids:\n",
    "    try:\n",
    "        merged_N_test_dict[i]\n",
    "        t.append(i)\n",
    "    except:\n",
    "        continue\n",
    "len(t)"
   ]
  },
  {
   "cell_type": "code",
   "execution_count": 42,
   "metadata": {},
   "outputs": [
    {
     "name": "stdout",
     "output_type": "stream",
     "text": [
      "Negative sites: 1154\n",
      "N-sites: 580\n",
      "O-sites: 0\n"
     ]
    }
   ],
   "source": [
    "negative_sites = 0\n",
    "postive_N_sites = 0\n",
    "postive_O_sites = 0\n",
    "for id in t:\n",
    "    try:\n",
    "        negative_sites += merged_N_test_dict[id][1][0].count(\"T\")\n",
    "        postive_O_sites += merged_N_test_dict[id][1][0].count(\"O\")\n",
    "        postive_N_sites += merged_N_test_dict[id][1][0].count(\"N\")\n",
    "    except:\n",
    "        continue\n",
    "print(f\"Negative sites: {negative_sites}\\nN-sites: {postive_N_sites}\\nO-sites: {postive_O_sites}\")"
   ]
  },
  {
   "cell_type": "code",
   "execution_count": 43,
   "metadata": {},
   "outputs": [
    {
     "data": {
      "text/plain": [
       "8791"
      ]
     },
     "execution_count": 43,
     "metadata": {},
     "output_type": "execute_result"
    }
   ],
   "source": [
    "\n",
    "l = []\n",
    "for i in ids:\n",
    "    try:\n",
    "        merged_train_dict[i]\n",
    "        l.append(i)\n",
    "    except:\n",
    "        continue\n",
    "len(l)"
   ]
  },
  {
   "cell_type": "code",
   "execution_count": 44,
   "metadata": {},
   "outputs": [
    {
     "name": "stdout",
     "output_type": "stream",
     "text": [
      "Negative sites: 11212\n",
      "N-sites: 11639\n",
      "O-sites: 5011\n"
     ]
    }
   ],
   "source": [
    "negative_sites = 0\n",
    "postive_N_sites = 0\n",
    "postive_O_sites = 0\n",
    "for id in l:\n",
    "    try:\n",
    "        negative_sites += merged_train_dict[id][1][0].count(\"T\")\n",
    "        postive_O_sites += merged_train_dict[id][1][0].count(\"O\")\n",
    "        postive_N_sites += merged_train_dict[id][1][0].count(\"N\")\n",
    "    except:\n",
    "        continue\n",
    "print(f\"Negative sites: {negative_sites}\\nN-sites: {postive_N_sites}\\nO-sites: {postive_O_sites}\")"
   ]
  },
  {
   "cell_type": "code",
   "execution_count": 45,
   "metadata": {},
   "outputs": [],
   "source": [
    "o_site = 15\n",
    "n_site = 3\n",
    "negative_sample = 2\n",
    "scores = {}\n",
    "for id in sequences.get_headers():\n",
    "    labels = None\n",
    "    if id in merged_train_dict:\n",
    "        labels = merged_train_dict[id][1][0]\n",
    "    elif id in merged_O_test_dict:\n",
    "        labels = merged_O_test_dict[id][1][0]\n",
    "    elif id in merged_N_test_dict:\n",
    "        labels = merged_N_test_dict[id][1][0]\n",
    "    else:\n",
    "        scores[id] = 1\n",
    "        continue\n",
    "\n",
    "    if labels.count(\"T\") != 0:\n",
    "        scores[id] = negative_sample\n",
    "        continue\n",
    "    score = labels.count(\"O\") * o_site + labels.count(\"N\") * n_site + labels.count(\"T\") * negative_sample\n",
    "    scores[id] = score\n",
    "\n",
    "with open(\"../../data/glyco/rr_scores.tsv\", \"w\") as f:\n",
    "    for id, score in scores.items():\n",
    "        f.write(f\"{id}\\t{score}\\n\")"
   ]
  },
  {
   "cell_type": "code",
   "execution_count": 46,
   "metadata": {},
   "outputs": [
    {
     "data": {
      "text/plain": [
       "0"
      ]
     },
     "execution_count": 46,
     "metadata": {},
     "output_type": "execute_result"
    }
   ],
   "source": [
    "len(set(merged_train_dict.keys()).intersection(set(merged_N_test_dict.keys())))"
   ]
  },
  {
   "cell_type": "code",
   "execution_count": 47,
   "metadata": {},
   "outputs": [
    {
     "data": {
      "text/plain": [
       "0"
      ]
     },
     "execution_count": 47,
     "metadata": {},
     "output_type": "execute_result"
    }
   ],
   "source": [
    "len(set(merged_train_dict.keys()).intersection(set(merged_O_test_dict.keys())))"
   ]
  }
 ],
 "metadata": {
  "kernelspec": {
   "display_name": ".venv",
   "language": "python",
   "name": "python3"
  },
  "language_info": {
   "codemirror_mode": {
    "name": "ipython",
    "version": 3
   },
   "file_extension": ".py",
   "mimetype": "text/x-python",
   "name": "python",
   "nbconvert_exporter": "python",
   "pygments_lexer": "ipython3",
   "version": "3.10.4"
  },
  "orig_nbformat": 4
 },
 "nbformat": 4,
 "nbformat_minor": 2
}
