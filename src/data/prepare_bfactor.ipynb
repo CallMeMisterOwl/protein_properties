{
 "cells": [
  {
   "cell_type": "code",
   "execution_count": 2,
   "metadata": {},
   "outputs": [],
   "source": [
    "from fasta import Fasta\n",
    "import numpy as np\n",
    "import pandas as pd"
   ]
  },
  {
   "cell_type": "code",
   "execution_count": 3,
   "metadata": {},
   "outputs": [],
   "source": [
    "# load data\n",
    "train = Fasta('../../data/bfactor/train.o')\n",
    "test = Fasta('../../data/bfactor/test.o')\n",
    "b_test = Fasta('../../data/bfactor/blind_test.o')\n",
    "val = Fasta('../../data/bfactor/val.o')"
   ]
  },
  {
   "cell_type": "code",
   "execution_count": 10,
   "metadata": {},
   "outputs": [],
   "source": [
    "def norm_bfactor(fasta: Fasta):    \n",
    "    pid_to_pop = []\n",
    "    len_before = len(fasta)\n",
    "    for pid in fasta.keys():\n",
    "        bfactor = np.array(fasta[pid][1])\n",
    "        if np.all(bfactor[bfactor != 0.0][0] == bfactor[bfactor != 0.0]):\n",
    "            pid_to_pop.append(pid)\n",
    "            continue\n",
    "        bfactor[bfactor != 0.0] = (bfactor[bfactor != 0.0] - np.nanmean(bfactor, where=bfactor != 0.0)) / np.nanstd(bfactor, where=bfactor != 0.0)\n",
    "        fasta[pid][1] = bfactor.tolist()\n",
    "    for pid in pid_to_pop:\n",
    "        fasta.pop(pid)\n",
    "    len_after = len(fasta)\n",
    "    print(f'Removed {len_before - len_after} sequences')\n",
    "    return fasta\n"
   ]
  },
  {
   "cell_type": "code",
   "execution_count": 11,
   "metadata": {},
   "outputs": [
    {
     "name": "stdout",
     "output_type": "stream",
     "text": [
      "Removed 0 sequences\n",
      "Removed 0 sequences\n",
      "Removed 0 sequences\n",
      "Removed 0 sequences\n"
     ]
    }
   ],
   "source": [
    "train_norm = norm_bfactor(train)\n",
    "test_norm = norm_bfactor(test)\n",
    "b_test_norm = norm_bfactor(b_test)\n",
    "val_norm = norm_bfactor(val)"
   ]
  },
  {
   "cell_type": "code",
   "execution_count": 15,
   "metadata": {},
   "outputs": [],
   "source": [
    "for fasta, name in zip([train_norm, test_norm, b_test_norm, val_norm], ['train', 'test', 'blind_test', 'val']):\n",
    "    fasta.write_fasta(f'../../data/bfactor/{name}_norm.o')"
   ]
  }
 ],
 "metadata": {
  "kernelspec": {
   "display_name": ".venv",
   "language": "python",
   "name": "python3"
  },
  "language_info": {
   "codemirror_mode": {
    "name": "ipython",
    "version": 3
   },
   "file_extension": ".py",
   "mimetype": "text/x-python",
   "name": "python",
   "nbconvert_exporter": "python",
   "pygments_lexer": "ipython3",
   "version": "3.10.0"
  }
 },
 "nbformat": 4,
 "nbformat_minor": 2
}
